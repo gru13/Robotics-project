{
 "cells": [
  {
   "cell_type": "code",
   "execution_count": 2,
   "metadata": {},
   "outputs": [],
   "source": [
    "import cv2\n",
    "import numpy as np\n",
    "import os\n"
   ]
  },
  {
   "cell_type": "code",
   "execution_count": 4,
   "metadata": {},
   "outputs": [],
   "source": [
    "# Load the pre-trained face detection model\n",
    "face_cascade = cv2.CascadeClassifier(cv2.data.haarcascades + 'haarcascade_frontalface_default.xml')\n",
    "# Set the desired image size for training\n",
    "target_size = (120, 120)  # Adjust this as per your requirements"
   ]
  },
  {
   "cell_type": "code",
   "execution_count": 5,
   "metadata": {},
   "outputs": [],
   "source": [
    "# Load the dataset and train the face recognizer\n",
    "dataset_dir = 'dataset'\n",
    "data = []\n",
    "labels = []\n",
    "model = cv2.face.EigenFaceRecognizer_create()"
   ]
  },
  {
   "cell_type": "code",
   "execution_count": 6,
   "metadata": {},
   "outputs": [],
   "source": [
    "\n",
    "for person_dir in os.listdir(dataset_dir):\n",
    "    person_path = os.path.join(dataset_dir, person_dir)\n",
    "    if os.path.isdir(person_path):\n",
    "        label = person_dir\n",
    "        label_id = labels.index(label) if label in labels else len(labels)\n",
    "        if label not in labels:\n",
    "            labels.append(label)\n",
    "        for img_path in os.listdir(person_path):\n",
    "            img_path = os.path.join(person_path, img_path)\n",
    "            img = cv2.imread(img_path, 0)  # Load grayscale image\n",
    "            img = cv2.resize(img, target_size)  # Resize the image to the target size\n",
    "            data.append(img)\n",
    "            labels_array = np.full(len(data), label_id, dtype=np.int32)\n"
   ]
  },
  {
   "cell_type": "code",
   "execution_count": 7,
   "metadata": {},
   "outputs": [],
   "source": [
    "\n",
    "model.train(data, np.array(labels_array))\n"
   ]
  },
  {
   "cell_type": "code",
   "execution_count": 8,
   "metadata": {},
   "outputs": [],
   "source": [
    "\n",
    "# Open the camera\n",
    "cap = cv2.VideoCapture(0)\n",
    "while True:\n",
    "    # Capture frame-by-frame\n",
    "    ret, frame = cap.read()\n",
    "\n",
    "    # Convert the frame to grayscale\n",
    "    gray = cv2.cvtColor(frame, cv2.COLOR_BGR2GRAY)\n",
    "\n",
    "    # Detect faces in the frame\n",
    "    faces = face_cascade.detectMultiScale(gray, scaleFactor=1.1, minNeighbors=5, minSize=(30, 30))\n",
    "\n",
    "    # For each detected face\n",
    "    for (x, y, w, h) in faces:\n",
    "        # Extract the face region\n",
    "        face = gray[y:y+h, x:x+w]\n",
    "        face = cv2.resize(face, target_size)  # Resize the face region to the target size\n",
    "\n",
    "        # Compare the face with the trained model\n",
    "        label, confidence = model.predict(face)\n",
    "        similarity = 1 - (confidence / 100)  # Convert confidence to similarity\n",
    "\n",
    "        # If the similarity is high enough (e.g., above 0.7), consider it a match\n",
    "        if similarity > 0.3:\n",
    "            print(f\"Face matched: {labels[label]}\")\n",
    "            color = (0, 255, 0)  # Green color for a match\n",
    "            text = labels[label]  # Display the recognized name\n",
    "        else:\n",
    "            color = (0, 0, 255)  # Red color for no match\n",
    "            text = \"Unknown\"  # Display \"Unknown\" for a non-match\n",
    "\n",
    "        # Draw a rectangle around the face\n",
    "        stroke = 2\n",
    "        cv2.rectangle(frame, (x, y), (x+w, y+h), color, stroke)\n",
    "\n",
    "        # Draw the text below the rectangle\n",
    "        font = cv2.FONT_HERSHEY_SIMPLEX\n",
    "        font_scale = 0.5\n",
    "        text_size, _ = cv2.getTextSize(text, font, font_scale, 1)\n",
    "        text_x = x\n",
    "        text_y = y + h + text_size[1] + 5\n",
    "        cv2.putText(frame, text, (text_x, text_y), font, font_scale, color, 1, cv2.LINE_AA)\n",
    "\n",
    "    # Display the resulting frame\n",
    "    cv2.imshow('Face Recognition', frame)\n",
    "\n",
    "    # Exit the loop if 'q' is pressed\n",
    "    if cv2.waitKey(20) & 0xFF == ord('q'):\n",
    "        break\n",
    "\n",
    "# Release the capture and close the window\n",
    "cap.release()\n",
    "cv2.destroyAllWindows()"
   ]
  }
 ],
 "metadata": {
  "kernelspec": {
   "display_name": "Python 3",
   "language": "python",
   "name": "python3"
  },
  "language_info": {
   "codemirror_mode": {
    "name": "ipython",
    "version": 3
   },
   "file_extension": ".py",
   "mimetype": "text/x-python",
   "name": "python",
   "nbconvert_exporter": "python",
   "pygments_lexer": "ipython3",
   "version": "3.11.4"
  }
 },
 "nbformat": 4,
 "nbformat_minor": 2
}
