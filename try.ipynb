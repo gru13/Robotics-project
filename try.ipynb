{
 "cells": [
  {
   "cell_type": "code",
   "execution_count": 1,
   "metadata": {},
   "outputs": [
    {
     "name": "stdout",
     "output_type": "stream",
     "text": [
      "Defaulting to user installation because normal site-packages is not writeable\n",
      "Requirement already satisfied: openai-whisper in c:\\users\\gurup\\appdata\\roaming\\python\\python311\\site-packages (20231117)\n",
      "Requirement already satisfied: numba in c:\\users\\gurup\\appdata\\roaming\\python\\python311\\site-packages (from openai-whisper) (0.59.0)\n",
      "Requirement already satisfied: numpy in c:\\users\\gurup\\appdata\\roaming\\python\\python311\\site-packages (from openai-whisper) (1.23.5)\n",
      "Requirement already satisfied: torch in c:\\users\\gurup\\appdata\\roaming\\python\\python311\\site-packages (from openai-whisper) (2.2.1)\n",
      "Requirement already satisfied: tqdm in c:\\users\\gurup\\appdata\\roaming\\python\\python311\\site-packages (from openai-whisper) (4.66.2)\n",
      "Requirement already satisfied: more-itertools in c:\\users\\gurup\\appdata\\roaming\\python\\python311\\site-packages (from openai-whisper) (10.2.0)\n",
      "Requirement already satisfied: tiktoken in c:\\users\\gurup\\appdata\\roaming\\python\\python311\\site-packages (from openai-whisper) (0.6.0)\n",
      "Requirement already satisfied: llvmlite<0.43,>=0.42.0dev0 in c:\\users\\gurup\\appdata\\roaming\\python\\python311\\site-packages (from numba->openai-whisper) (0.42.0)\n",
      "Requirement already satisfied: regex>=2022.1.18 in c:\\users\\gurup\\appdata\\roaming\\python\\python311\\site-packages (from tiktoken->openai-whisper) (2023.12.25)\n",
      "Requirement already satisfied: requests>=2.26.0 in c:\\users\\gurup\\appdata\\roaming\\python\\python311\\site-packages (from tiktoken->openai-whisper) (2.31.0)\n",
      "Requirement already satisfied: filelock in c:\\users\\gurup\\appdata\\roaming\\python\\python311\\site-packages (from torch->openai-whisper) (3.13.1)\n",
      "Requirement already satisfied: typing-extensions>=4.8.0 in c:\\users\\gurup\\appdata\\roaming\\python\\python311\\site-packages (from torch->openai-whisper) (4.9.0)\n",
      "Requirement already satisfied: sympy in c:\\users\\gurup\\appdata\\roaming\\python\\python311\\site-packages (from torch->openai-whisper) (1.11.1)\n",
      "Requirement already satisfied: networkx in c:\\users\\gurup\\appdata\\roaming\\python\\python311\\site-packages (from torch->openai-whisper) (3.2.1)\n",
      "Requirement already satisfied: jinja2 in c:\\users\\gurup\\appdata\\roaming\\python\\python311\\site-packages (from torch->openai-whisper) (3.1.2)\n",
      "Requirement already satisfied: fsspec in c:\\users\\gurup\\appdata\\roaming\\python\\python311\\site-packages (from torch->openai-whisper) (2024.2.0)\n",
      "Requirement already satisfied: colorama in c:\\users\\gurup\\appdata\\roaming\\python\\python311\\site-packages (from tqdm->openai-whisper) (0.4.6)\n",
      "Requirement already satisfied: charset-normalizer<4,>=2 in c:\\users\\gurup\\appdata\\roaming\\python\\python311\\site-packages (from requests>=2.26.0->tiktoken->openai-whisper) (3.2.0)\n",
      "Requirement already satisfied: idna<4,>=2.5 in c:\\users\\gurup\\appdata\\roaming\\python\\python311\\site-packages (from requests>=2.26.0->tiktoken->openai-whisper) (3.4)\n",
      "Requirement already satisfied: urllib3<3,>=1.21.1 in c:\\users\\gurup\\appdata\\roaming\\python\\python311\\site-packages (from requests>=2.26.0->tiktoken->openai-whisper) (2.0.3)\n",
      "Requirement already satisfied: certifi>=2017.4.17 in c:\\users\\gurup\\appdata\\roaming\\python\\python311\\site-packages (from requests>=2.26.0->tiktoken->openai-whisper) (2023.5.7)\n",
      "Requirement already satisfied: MarkupSafe>=2.0 in c:\\users\\gurup\\appdata\\roaming\\python\\python311\\site-packages (from jinja2->torch->openai-whisper) (2.1.3)\n",
      "Requirement already satisfied: mpmath>=0.19 in c:\\users\\gurup\\appdata\\roaming\\python\\python311\\site-packages (from sympy->torch->openai-whisper) (1.3.0)\n"
     ]
    }
   ],
   "source": [
    "!pip install openai-whisper"
   ]
  },
  {
   "cell_type": "code",
   "execution_count": 2,
   "metadata": {},
   "outputs": [],
   "source": [
    "import whisper\n",
    "\n",
    "model = whisper.load_model(\"base\")\n"
   ]
  },
  {
   "cell_type": "code",
   "execution_count": 5,
   "metadata": {},
   "outputs": [],
   "source": [
    "result = model.transcribe(\"./aud.wav\")\n"
   ]
  },
  {
   "cell_type": "code",
   "execution_count": 4,
   "metadata": {},
   "outputs": [
    {
     "name": "stdout",
     "output_type": "stream",
     "text": [
      "{'text': ' Hello, my name is Adithin. I have a doubt regarding my robotics project. I wish to make a voice assistant like Jarvis. Can you tell me what are the steps and what are the setups necessary to make it?', 'segments': [{'id': 0, 'seek': 0, 'start': 0.0, 'end': 7.0, 'text': ' Hello, my name is Adithin. I have a doubt regarding my robotics project. I wish to make a voice assistant like Jarvis.', 'tokens': [50364, 2425, 11, 452, 1315, 307, 1999, 355, 259, 13, 286, 362, 257, 6385, 8595, 452, 34145, 1716, 13, 286, 3172, 281, 652, 257, 3177, 10994, 411, 23941, 4938, 13, 50714], 'temperature': 0.0, 'avg_logprob': -0.23194454266474798, 'compression_ratio': 1.4014084507042253, 'no_speech_prob': 0.1044880598783493}, {'id': 1, 'seek': 0, 'start': 7.0, 'end': 12.0, 'text': ' Can you tell me what are the steps and what are the setups necessary to make it?', 'tokens': [50714, 1664, 291, 980, 385, 437, 366, 264, 4439, 293, 437, 366, 264, 46832, 4818, 281, 652, 309, 30, 50964], 'temperature': 0.0, 'avg_logprob': -0.23194454266474798, 'compression_ratio': 1.4014084507042253, 'no_speech_prob': 0.1044880598783493}], 'language': 'en'}\n"
     ]
    }
   ],
   "source": [
    "print(result)"
   ]
  }
 ],
 "metadata": {
  "kernelspec": {
   "display_name": "Python 3",
   "language": "python",
   "name": "python3"
  },
  "language_info": {
   "codemirror_mode": {
    "name": "ipython",
    "version": 3
   },
   "file_extension": ".py",
   "mimetype": "text/x-python",
   "name": "python",
   "nbconvert_exporter": "python",
   "pygments_lexer": "ipython3",
   "version": "3.11.4"
  }
 },
 "nbformat": 4,
 "nbformat_minor": 2
}
